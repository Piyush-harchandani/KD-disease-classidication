{
 "cells": [
  {
   "cell_type": "code",
   "execution_count": 1,
   "id": "a4909799",
   "metadata": {},
   "outputs": [
    {
     "name": "stdout",
     "output_type": "stream",
     "text": [
      "Kidney\n"
     ]
    }
   ],
   "source": [
    "from box import ConfigBox\n",
    "c = ConfigBox({\"name\": \"Kidney\"})\n",
    "print(c.name)"
   ]
  },
  {
   "cell_type": "code",
   "execution_count": 9,
   "id": "546750c2",
   "metadata": {},
   "outputs": [],
   "source": [
    "from ensure import ensure_annotations"
   ]
  },
  {
   "cell_type": "code",
   "execution_count": 10,
   "id": "b740352b",
   "metadata": {},
   "outputs": [],
   "source": [
    "@ensure_annotations\n",
    "def get_product(x:int, y:int) -> int:\n",
    "    return x*y"
   ]
  },
  {
   "cell_type": "code",
   "execution_count": 13,
   "id": "bd8cb33f",
   "metadata": {},
   "outputs": [],
   "source": [
    "import gdown"
   ]
  },
  {
   "cell_type": "code",
   "execution_count": 14,
   "id": "709f2944",
   "metadata": {},
   "outputs": [],
   "source": [
    "url=\"https://drive.google.com/file/d/12ZufT2tAZFJP9Fw6al49j2IGFfTPZ0Fq/view?usp=sharing\""
   ]
  },
  {
   "cell_type": "code",
   "execution_count": 15,
   "id": "9113182a",
   "metadata": {},
   "outputs": [],
   "source": [
    "file_id = url.split(\"/\")[-2]"
   ]
  },
  {
   "cell_type": "code",
   "execution_count": 16,
   "id": "bdbe5c86",
   "metadata": {},
   "outputs": [
    {
     "data": {
      "text/plain": [
       "'12ZufT2tAZFJP9Fw6al49j2IGFfTPZ0Fq'"
      ]
     },
     "execution_count": 16,
     "metadata": {},
     "output_type": "execute_result"
    }
   ],
   "source": [
    "file_id"
   ]
  },
  {
   "cell_type": "code",
   "execution_count": 17,
   "id": "696b06ab",
   "metadata": {},
   "outputs": [
    {
     "name": "stderr",
     "output_type": "stream",
     "text": [
      "Downloading...\n",
      "From (original): https://drive.google.com/uc?/export=download&id=12ZufT2tAZFJP9Fw6al49j2IGFfTPZ0Fq\n",
      "From (redirected): https://drive.google.com/uc?%2Fexport=download&id=12ZufT2tAZFJP9Fw6al49j2IGFfTPZ0Fq&confirm=t&uuid=ff672888-7634-48a5-9c57-2b4413fab967\n",
      "To: c:\\Users\\USER\\OneDrive\\Desktop\\Projects\\KD-disease-classidication\\research\\kidney-ct-scan-image.zip\n",
      "100%|██████████| 941M/941M [06:43<00:00, 2.33MB/s] \n"
     ]
    },
    {
     "data": {
      "text/plain": [
       "'kidney-ct-scan-image.zip'"
      ]
     },
     "execution_count": 17,
     "metadata": {},
     "output_type": "execute_result"
    }
   ],
   "source": [
    "prefix = 'https://drive.google.com/uc?/export=download&id='\n",
    "gdown.download(prefix+file_id, \"kidney-ct-scan-image.zip\")"
   ]
  }
 ],
 "metadata": {
  "kernelspec": {
   "display_name": "kidney123_py310",
   "language": "python",
   "name": "python3"
  },
  "language_info": {
   "codemirror_mode": {
    "name": "ipython",
    "version": 3
   },
   "file_extension": ".py",
   "mimetype": "text/x-python",
   "name": "python",
   "nbconvert_exporter": "python",
   "pygments_lexer": "ipython3",
   "version": "3.10.18"
  }
 },
 "nbformat": 4,
 "nbformat_minor": 5
}
