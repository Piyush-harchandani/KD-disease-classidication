{
 "cells": [
  {
   "cell_type": "code",
   "execution_count": 1,
   "id": "01657bd1",
   "metadata": {},
   "outputs": [],
   "source": [
    "import os"
   ]
  },
  {
   "cell_type": "code",
   "execution_count": 2,
   "id": "e2673632",
   "metadata": {},
   "outputs": [
    {
     "data": {
      "text/plain": [
       "'c:\\\\Users\\\\USER\\\\OneDrive\\\\Desktop\\\\Projects\\\\KD-disease-classidication\\\\research'"
      ]
     },
     "execution_count": 2,
     "metadata": {},
     "output_type": "execute_result"
    }
   ],
   "source": [
    "%pwd"
   ]
  },
  {
   "cell_type": "code",
   "execution_count": 3,
   "id": "4285164f",
   "metadata": {},
   "outputs": [],
   "source": [
    "os.chdir(\"../\")"
   ]
  },
  {
   "cell_type": "code",
   "execution_count": 4,
   "id": "4160de6e",
   "metadata": {},
   "outputs": [
    {
     "data": {
      "text/plain": [
       "'c:\\\\Users\\\\USER\\\\OneDrive\\\\Desktop\\\\Projects\\\\KD-disease-classidication'"
      ]
     },
     "execution_count": 4,
     "metadata": {},
     "output_type": "execute_result"
    }
   ],
   "source": [
    "%pwd"
   ]
  },
  {
   "cell_type": "code",
   "execution_count": 5,
   "id": "f19c4ee6",
   "metadata": {},
   "outputs": [],
   "source": [
    "os.environ[\"MLFLOW_TRACKING_URI\"]=\"https://dagshub.com/harchandanipiyush48/KD-disease-classidication.mlflow\"\n",
    "os.environ[\"MLFLOW_TRACKING_USERNAME\"]=\"harchandanipiyush48\"\n",
    "os.environ[\"MLFLOW_TRACKING_PASSWORD\"]=\"26060456\""
   ]
  },
  {
   "cell_type": "code",
   "execution_count": 6,
   "id": "94e37f09",
   "metadata": {},
   "outputs": [
    {
     "data": {
      "text/html": [
       "<pre style=\"white-space:pre;overflow-x:auto;line-height:normal;font-family:Menlo,'DejaVu Sans Mono',consolas,'Courier New',monospace\">Accessing as harchandanipiyush48\n",
       "</pre>\n"
      ],
      "text/plain": [
       "Accessing as harchandanipiyush48\n"
      ]
     },
     "metadata": {},
     "output_type": "display_data"
    },
    {
     "data": {
      "text/html": [
       "<pre style=\"white-space:pre;overflow-x:auto;line-height:normal;font-family:Menlo,'DejaVu Sans Mono',consolas,'Courier New',monospace\">Initialized MLflow to track repo <span style=\"color: #008000; text-decoration-color: #008000\">\"harchandanipiyush48/KD-disease-classidication\"</span>\n",
       "</pre>\n"
      ],
      "text/plain": [
       "Initialized MLflow to track repo \u001b[32m\"harchandanipiyush48/KD-disease-classidication\"\u001b[0m\n"
      ]
     },
     "metadata": {},
     "output_type": "display_data"
    },
    {
     "data": {
      "text/html": [
       "<pre style=\"white-space:pre;overflow-x:auto;line-height:normal;font-family:Menlo,'DejaVu Sans Mono',consolas,'Courier New',monospace\">Repository harchandanipiyush48/KD-disease-classidication initialized!\n",
       "</pre>\n"
      ],
      "text/plain": [
       "Repository harchandanipiyush48/KD-disease-classidication initialized!\n"
      ]
     },
     "metadata": {},
     "output_type": "display_data"
    },
    {
     "name": "stdout",
     "output_type": "stream",
     "text": [
      "🏃 View run gregarious-ram-649 at: https://dagshub.com/harchandanipiyush48/KD-disease-classidication.mlflow/#/experiments/0/runs/3c047bbe684c40fa9e51558202ed4c6c\n",
      "🧪 View experiment at: https://dagshub.com/harchandanipiyush48/KD-disease-classidication.mlflow/#/experiments/0\n"
     ]
    }
   ],
   "source": [
    "import dagshub\n",
    "dagshub.init(repo_owner='harchandanipiyush48', repo_name='KD-disease-classidication', mlflow=True)\n",
    "\n",
    "import mlflow\n",
    "with mlflow.start_run():\n",
    "  mlflow.log_param('parameter name', 'value')\n",
    "  mlflow.log_metric('metric name', 1)"
   ]
  },
  {
   "cell_type": "code",
   "execution_count": 7,
   "id": "adc6f51a",
   "metadata": {},
   "outputs": [],
   "source": [
    "import tensorflow as tf"
   ]
  },
  {
   "cell_type": "code",
   "execution_count": 8,
   "id": "4dbd126e",
   "metadata": {},
   "outputs": [
    {
     "name": "stderr",
     "output_type": "stream",
     "text": [
      "WARNING:absl:Compiled the loaded model, but the compiled metrics have yet to be built. `model.compile_metrics` will be empty until you train or evaluate the model.\n"
     ]
    }
   ],
   "source": [
    "model = tf.keras.models.load_model(\"artifacts/training/model.h5\")"
   ]
  },
  {
   "cell_type": "code",
   "execution_count": 9,
   "id": "87732e7e",
   "metadata": {},
   "outputs": [],
   "source": [
    "from dataclasses import dataclass\n",
    "from pathlib import Path\n",
    "\n",
    "@dataclass(frozen=True)\n",
    "class EvaluationConfig:\n",
    "    path_of_model: Path\n",
    "    training_data: Path\n",
    "    all_params: dict\n",
    "    mlflow_uri: str\n",
    "    params_image_size: list\n",
    "    params_batch_size: int"
   ]
  },
  {
   "cell_type": "code",
   "execution_count": 10,
   "id": "41db6948",
   "metadata": {},
   "outputs": [],
   "source": [
    "from cnnClassifier.constants import *\n",
    "from cnnClassifier.utils.common import read_yaml, create_directories, save_json"
   ]
  },
  {
   "cell_type": "code",
   "execution_count": 12,
   "id": "5e6fe4c9",
   "metadata": {},
   "outputs": [],
   "source": [
    "class ConfigurationManager:\n",
    "    def __init__(\n",
    "        self, \n",
    "        config_filepath = CONFIG_FILE_PATH,\n",
    "        params_filepath = PARAMS_FILE_PATH):\n",
    "        self.config = read_yaml(config_filepath)\n",
    "        self.params = read_yaml(params_filepath)\n",
    "        create_directories([self.config.artifacts_root])\n",
    "\n",
    "    \n",
    "    def get_evaluation_config(self) -> EvaluationConfig:\n",
    "        eval_config = EvaluationConfig(\n",
    "            path_of_model=\"artifacts/training/model.h5\",\n",
    "            training_data=\"artifacts/data_ingestion/kidney-ct-scan-image\",\n",
    "            mlflow_uri=\"https://dagshub.com/harchandanipiyush48/KD-disease-classidication.mlflow\",\n",
    "            all_params=self.params,\n",
    "            params_image_size=self.params.IMAGE_SIZE,\n",
    "            params_batch_size=self.params.BATCH_SIZE\n",
    "        )\n",
    "        return eval_config"
   ]
  },
  {
   "cell_type": "code",
   "execution_count": 13,
   "id": "693ad9d0",
   "metadata": {},
   "outputs": [],
   "source": [
    "import tensorflow as tf\n",
    "from pathlib import Path\n",
    "import mlflow\n",
    "import mlflow.keras\n",
    "from urllib.parse import urlparse"
   ]
  },
  {
   "cell_type": "code",
   "execution_count": 18,
   "id": "def18c00",
   "metadata": {},
   "outputs": [],
   "source": [
    "class Evaluation:\n",
    "    def __init__(self, config: EvaluationConfig):\n",
    "        self.config = config\n",
    "        self.model = None\n",
    "        self.valid_generator = None\n",
    "        self.score = None\n",
    "\n",
    "    def _valid_generator(self):\n",
    "        \"\"\"Prepare validation data generator.\"\"\"\n",
    "        datagenerator_kwargs = dict(\n",
    "            rescale=1.0 / 255,\n",
    "            validation_split=0.30\n",
    "        )\n",
    "\n",
    "        dataflow_kwargs = dict(\n",
    "            target_size=self.config.params_image_size[:-1],\n",
    "            batch_size=self.config.params_batch_size,\n",
    "            interpolation=\"bilinear\"\n",
    "        )\n",
    "\n",
    "        valid_datagenerator = tf.keras.preprocessing.image.ImageDataGenerator(\n",
    "            **datagenerator_kwargs\n",
    "        )\n",
    "\n",
    "        self.valid_generator = valid_datagenerator.flow_from_directory(\n",
    "            directory=self.config.training_data,\n",
    "            subset=\"validation\",\n",
    "            shuffle=False,\n",
    "            **dataflow_kwargs\n",
    "        )\n",
    "\n",
    "    @staticmethod\n",
    "    def load_model(path: Path) -> tf.keras.Model:\n",
    "        \"\"\"Load a trained Keras model from disk.\"\"\"\n",
    "        return tf.keras.models.load_model(path)\n",
    "\n",
    "    def evaluation(self):\n",
    "        \"\"\"Load model, run evaluation, and save results.\"\"\"\n",
    "        self.model = self.load_model(self.config.path_of_model)\n",
    "        self._valid_generator()\n",
    "        self.score = self.model.evaluate(self.valid_generator)\n",
    "        self.save_score()\n",
    "\n",
    "    def save_score(self):\n",
    "        \"\"\"Save evaluation scores to a JSON file.\"\"\"\n",
    "        scores = {\"loss\": self.score[0], \"accuracy\": self.score[1]}\n",
    "        save_json(path=Path(\"scores.json\"), data=scores)\n",
    "\n",
    "    def log_into_mlflow(self):\n",
    "        mlflow.set_tracking_uri(self.config.mlflow_uri)\n",
    "        tracking_url_type_store = urlparse(mlflow.get_tracking_uri()).scheme\n",
    "\n",
    "        with mlflow.start_run():\n",
    "            # Log params & metrics\n",
    "            mlflow.log_params(self.config.all_params)\n",
    "            mlflow.log_metrics({\"loss\": self.score[0], \"accuracy\": self.score[1]})\n",
    "\n",
    "            try:\n",
    "                if tracking_url_type_store != \"file\" and \"dagshub\" not in mlflow.get_tracking_uri():\n",
    "                    # ✅ Local MLflow server with registry\n",
    "                    mlflow.keras.log_model(\n",
    "                        self.model,\n",
    "                        artifact_path=\"model\",\n",
    "                        registered_model_name=\"VGG16Model\"\n",
    "                    )\n",
    "                else:\n",
    "                    # ✅ DagsHub or file store → save model manually as artifact\n",
    "                    local_path = Path(\"saved_model\")\n",
    "                    mlflow.keras.save_model(self.model, path=local_path)\n",
    "                    mlflow.log_artifacts(str(local_path), artifact_path=\"model\")\n",
    "\n",
    "            except Exception as e:\n",
    "                print(f\"⚠️ Model logging fallback due to error: {e}\")\n",
    "                local_path = Path(\"saved_model\")\n",
    "                mlflow.keras.save_model(self.model, path=local_path)\n",
    "                mlflow.log_artifacts(str(local_path), artifact_path=\"model\")\n"
   ]
  },
  {
   "cell_type": "code",
   "execution_count": 19,
   "id": "4d6f9ce5",
   "metadata": {},
   "outputs": [
    {
     "name": "stderr",
     "output_type": "stream",
     "text": [
      "WARNING:absl:Compiled the loaded model, but the compiled metrics have yet to be built. `model.compile_metrics` will be empty until you train or evaluate the model.\n"
     ]
    },
    {
     "name": "stdout",
     "output_type": "stream",
     "text": [
      "Found 2207 images belonging to 2 classes.\n",
      "\u001b[1m138/138\u001b[0m \u001b[32m━━━━━━━━━━━━━━━━━━━━\u001b[0m\u001b[37m\u001b[0m \u001b[1m921s\u001b[0m 7s/step - accuracy: 0.7295 - loss: 0.5301\n"
     ]
    },
    {
     "name": "stderr",
     "output_type": "stream",
     "text": [
      "WARNING:urllib3.connectionpool:Retrying (Retry(total=6, connect=7, read=6, redirect=7, status=7)) after connection broken by 'RemoteDisconnected('Remote end closed connection without response')': /harchandanipiyush48/KD-disease-classidication.mlflow/api/2.0/mlflow/runs/create\n",
      "2025/09/25 14:31:27 WARNING mlflow.keras.save: You are saving a Keras model without specifying model signature.\n",
      "2025/09/25 14:31:27 WARNING mlflow.keras.save: You are saving a Keras model without specifying model signature.\n"
     ]
    },
    {
     "name": "stdout",
     "output_type": "stream",
     "text": [
      "⚠️ Model logging fallback due to error: 'WindowsPath' object has no attribute 'startswith'\n",
      "🏃 View run persistent-robin-86 at: https://dagshub.com/harchandanipiyush48/KD-disease-classidication.mlflow/#/experiments/0/runs/f6e2c826074d45ba9a203903a30e4151\n",
      "🧪 View experiment at: https://dagshub.com/harchandanipiyush48/KD-disease-classidication.mlflow/#/experiments/0\n"
     ]
    },
    {
     "ename": "FileExistsError",
     "evalue": "[WinError 183] Cannot create a file when that file already exists: 'saved_model\\\\data'",
     "output_type": "error",
     "traceback": [
      "\u001b[31m---------------------------------------------------------------------------\u001b[39m",
      "\u001b[31mAttributeError\u001b[39m                            Traceback (most recent call last)",
      "\u001b[36mCell\u001b[39m\u001b[36m \u001b[39m\u001b[32mIn[18]\u001b[39m\u001b[32m, line 69\u001b[39m, in \u001b[36mEvaluation.log_into_mlflow\u001b[39m\u001b[34m(self)\u001b[39m\n\u001b[32m     68\u001b[39m local_path = Path(\u001b[33m\"\u001b[39m\u001b[33msaved_model\u001b[39m\u001b[33m\"\u001b[39m)\n\u001b[32m---> \u001b[39m\u001b[32m69\u001b[39m mlflow.keras.save_model(\u001b[38;5;28mself\u001b[39m.model, path=local_path)\n\u001b[32m     70\u001b[39m mlflow.log_artifacts(\u001b[38;5;28mstr\u001b[39m(local_path), artifact_path=\u001b[33m\"\u001b[39m\u001b[33mmodel\u001b[39m\u001b[33m\"\u001b[39m)\n",
      "\u001b[36mFile \u001b[39m\u001b[32mc:\\Users\\USER\\anaconda3\\envs\\kidney\\Lib\\site-packages\\mlflow\\keras\\save.py:211\u001b[39m, in \u001b[36msave_model\u001b[39m\u001b[34m(model, path, save_exported_model, conda_env, mlflow_model, signature, input_example, pip_requirements, extra_pip_requirements, save_model_kwargs, metadata)\u001b[39m\n\u001b[32m    210\u001b[39m model_path = os.path.join(path, model_subpath) + file_extension\n\u001b[32m--> \u001b[39m\u001b[32m211\u001b[39m \u001b[38;5;28;01mif\u001b[39;00m path.startswith(\u001b[33m\"\u001b[39m\u001b[33m/dbfs/\u001b[39m\u001b[33m\"\u001b[39m):\n\u001b[32m    212\u001b[39m     \u001b[38;5;66;03m# The Databricks Filesystem uses a FUSE implementation that does not support\u001b[39;00m\n\u001b[32m    213\u001b[39m     \u001b[38;5;66;03m# random writes. It causes an error.\u001b[39;00m\n\u001b[32m    214\u001b[39m     \u001b[38;5;28;01mwith\u001b[39;00m tempfile.NamedTemporaryFile(suffix=\u001b[33m\"\u001b[39m\u001b[33m.keras\u001b[39m\u001b[33m\"\u001b[39m) \u001b[38;5;28;01mas\u001b[39;00m f:\n",
      "\u001b[31mAttributeError\u001b[39m: 'WindowsPath' object has no attribute 'startswith'",
      "\nDuring handling of the above exception, another exception occurred:\n",
      "\u001b[31mFileExistsError\u001b[39m                           Traceback (most recent call last)",
      "\u001b[36mCell\u001b[39m\u001b[36m \u001b[39m\u001b[32mIn[19]\u001b[39m\u001b[32m, line 9\u001b[39m\n\u001b[32m      6\u001b[39m     evaluation.log_into_mlflow()\n\u001b[32m      8\u001b[39m \u001b[38;5;28;01mexcept\u001b[39;00m \u001b[38;5;167;01mException\u001b[39;00m \u001b[38;5;28;01mas\u001b[39;00m e:\n\u001b[32m----> \u001b[39m\u001b[32m9\u001b[39m    \u001b[38;5;28;01mraise\u001b[39;00m e\n",
      "\u001b[36mCell\u001b[39m\u001b[36m \u001b[39m\u001b[32mIn[19]\u001b[39m\u001b[32m, line 6\u001b[39m\n\u001b[32m      4\u001b[39m     evaluation = Evaluation(eval_config)\n\u001b[32m      5\u001b[39m     evaluation.evaluation()\n\u001b[32m----> \u001b[39m\u001b[32m6\u001b[39m     evaluation.log_into_mlflow()\n\u001b[32m      8\u001b[39m \u001b[38;5;28;01mexcept\u001b[39;00m \u001b[38;5;167;01mException\u001b[39;00m \u001b[38;5;28;01mas\u001b[39;00m e:\n\u001b[32m      9\u001b[39m    \u001b[38;5;28;01mraise\u001b[39;00m e\n",
      "\u001b[36mCell\u001b[39m\u001b[36m \u001b[39m\u001b[32mIn[18]\u001b[39m\u001b[32m, line 75\u001b[39m, in \u001b[36mEvaluation.log_into_mlflow\u001b[39m\u001b[34m(self)\u001b[39m\n\u001b[32m     73\u001b[39m \u001b[38;5;28mprint\u001b[39m(\u001b[33mf\u001b[39m\u001b[33m\"\u001b[39m\u001b[33m⚠️ Model logging fallback due to error: \u001b[39m\u001b[38;5;132;01m{\u001b[39;00me\u001b[38;5;132;01m}\u001b[39;00m\u001b[33m\"\u001b[39m)\n\u001b[32m     74\u001b[39m local_path = Path(\u001b[33m\"\u001b[39m\u001b[33msaved_model\u001b[39m\u001b[33m\"\u001b[39m)\n\u001b[32m---> \u001b[39m\u001b[32m75\u001b[39m mlflow.keras.save_model(\u001b[38;5;28mself\u001b[39m.model, path=local_path)\n\u001b[32m     76\u001b[39m mlflow.log_artifacts(\u001b[38;5;28mstr\u001b[39m(local_path), artifact_path=\u001b[33m\"\u001b[39m\u001b[33mmodel\u001b[39m\u001b[33m\"\u001b[39m)\n",
      "\u001b[36mFile \u001b[39m\u001b[32mc:\\Users\\USER\\anaconda3\\envs\\kidney\\Lib\\site-packages\\mlflow\\keras\\save.py:195\u001b[39m, in \u001b[36msave_model\u001b[39m\u001b[34m(model, path, save_exported_model, conda_env, mlflow_model, signature, input_example, pip_requirements, extra_pip_requirements, save_model_kwargs, metadata)\u001b[39m\n\u001b[32m    193\u001b[39m \u001b[38;5;66;03m# Construct new data folder in existing path.\u001b[39;00m\n\u001b[32m    194\u001b[39m data_path = os.path.join(path, data_subpath)\n\u001b[32m--> \u001b[39m\u001b[32m195\u001b[39m os.makedirs(data_path)\n\u001b[32m    197\u001b[39m model_subpath = os.path.join(data_subpath, _MODEL_SAVE_PATH)\n\u001b[32m    198\u001b[39m keras_module = importlib.import_module(\u001b[33m\"\u001b[39m\u001b[33mkeras\u001b[39m\u001b[33m\"\u001b[39m)\n",
      "\u001b[36mFile \u001b[39m\u001b[32m<frozen os>:225\u001b[39m, in \u001b[36mmakedirs\u001b[39m\u001b[34m(name, mode, exist_ok)\u001b[39m\n",
      "\u001b[31mFileExistsError\u001b[39m: [WinError 183] Cannot create a file when that file already exists: 'saved_model\\\\data'"
     ]
    }
   ],
   "source": [
    "try:\n",
    "    config = ConfigurationManager()\n",
    "    eval_config = config.get_evaluation_config()\n",
    "    evaluation = Evaluation(eval_config)\n",
    "    evaluation.evaluation()\n",
    "    evaluation.log_into_mlflow()\n",
    "\n",
    "except Exception as e:\n",
    "   raise e"
   ]
  }
 ],
 "metadata": {
  "kernelspec": {
   "display_name": "kidney",
   "language": "python",
   "name": "python3"
  },
  "language_info": {
   "codemirror_mode": {
    "name": "ipython",
    "version": 3
   },
   "file_extension": ".py",
   "mimetype": "text/x-python",
   "name": "python",
   "nbconvert_exporter": "python",
   "pygments_lexer": "ipython3",
   "version": "3.12.0"
  }
 },
 "nbformat": 4,
 "nbformat_minor": 5
}
